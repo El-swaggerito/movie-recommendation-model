{
 "cells": [
  {
   "cell_type": "markdown",
   "id": "20369c1e",
   "metadata": {},
   "source": [
    "## Importing Important Items"
   ]
  },
  {
   "cell_type": "markdown",
   "id": "247dcdb2",
   "metadata": {},
   "source": [
    "Libraries"
   ]
  },
  {
   "cell_type": "code",
   "execution_count": 46,
   "id": "abc721bc",
   "metadata": {},
   "outputs": [],
   "source": [
    "import pandas as pd\n",
    "import numpy as np\n",
    "import matplotlib.pyplot as plt\n",
    "import seaborn as sns"
   ]
  },
  {
   "cell_type": "markdown",
   "id": "6ca76795",
   "metadata": {},
   "source": [
    "Dataset"
   ]
  },
  {
   "cell_type": "code",
   "execution_count": 47,
   "id": "d93d107e",
   "metadata": {},
   "outputs": [
    {
     "name": "stdout",
     "output_type": "stream",
     "text": [
      "<class 'pandas.core.frame.DataFrame'>\n",
      "RangeIndex: 1261781 entries, 0 to 1261780\n",
      "Data columns (total 24 columns):\n",
      " #   Column                Non-Null Count    Dtype  \n",
      "---  ------                --------------    -----  \n",
      " 0   id                    1261781 non-null  int64  \n",
      " 1   title                 1261768 non-null  object \n",
      " 2   vote_average          1261781 non-null  float64\n",
      " 3   vote_count            1261781 non-null  int64  \n",
      " 4   status                1261781 non-null  object \n",
      " 5   release_date          1019565 non-null  object \n",
      " 6   revenue               1261781 non-null  int64  \n",
      " 7   runtime               1261781 non-null  int64  \n",
      " 8   adult                 1261781 non-null  bool   \n",
      " 9   backdrop_path         325569 non-null   object \n",
      " 10  budget                1261781 non-null  int64  \n",
      " 11  homepage              131719 non-null   object \n",
      " 12  imdb_id               632145 non-null   object \n",
      " 13  original_language     1261781 non-null  object \n",
      " 14  original_title        1261768 non-null  object \n",
      " 15  overview              988277 non-null   object \n",
      " 16  popularity            1261781 non-null  float64\n",
      " 17  poster_path           839813 non-null   object \n",
      " 18  tagline               176659 non-null   object \n",
      " 19  genres                731352 non-null   object \n",
      " 20  production_companies  554513 non-null   object \n",
      " 21  production_countries  676460 non-null   object \n",
      " 22  spoken_languages      699467 non-null   object \n",
      " 23  keywords              326916 non-null   object \n",
      "dtypes: bool(1), float64(2), int64(5), object(16)\n",
      "memory usage: 222.6+ MB\n"
     ]
    }
   ],
   "source": [
    "movies = pd.read_csv(\"datasets/TMDB_movie_dataset_v11.csv\")\n",
    "movies.info()"
   ]
  },
  {
   "cell_type": "code",
   "execution_count": 66,
   "id": "1c834992",
   "metadata": {},
   "outputs": [
    {
     "data": {
      "text/html": [
       "<div>\n",
       "<style scoped>\n",
       "    .dataframe tbody tr th:only-of-type {\n",
       "        vertical-align: middle;\n",
       "    }\n",
       "\n",
       "    .dataframe tbody tr th {\n",
       "        vertical-align: top;\n",
       "    }\n",
       "\n",
       "    .dataframe thead th {\n",
       "        text-align: right;\n",
       "    }\n",
       "</style>\n",
       "<table border=\"1\" class=\"dataframe\">\n",
       "  <thead>\n",
       "    <tr style=\"text-align: right;\">\n",
       "      <th></th>\n",
       "      <th>id</th>\n",
       "      <th>title</th>\n",
       "      <th>release_date</th>\n",
       "      <th>overview</th>\n",
       "      <th>genres</th>\n",
       "      <th>original_language</th>\n",
       "      <th>keywords</th>\n",
       "      <th>status</th>\n",
       "      <th>adult</th>\n",
       "      <th>poster_path</th>\n",
       "    </tr>\n",
       "  </thead>\n",
       "  <tbody>\n",
       "    <tr>\n",
       "      <th>0</th>\n",
       "      <td>27205</td>\n",
       "      <td>Inception</td>\n",
       "      <td>2010-07-15</td>\n",
       "      <td>Cobb, a skilled thief who commits corporate es...</td>\n",
       "      <td>Action, Science Fiction, Adventure</td>\n",
       "      <td>en</td>\n",
       "      <td>rescue, mission, dream, airplane, paris, franc...</td>\n",
       "      <td>Released</td>\n",
       "      <td>False</td>\n",
       "      <td>/oYuLEt3zVCKq57qu2F8dT7NIa6f.jpg</td>\n",
       "    </tr>\n",
       "    <tr>\n",
       "      <th>1</th>\n",
       "      <td>157336</td>\n",
       "      <td>Interstellar</td>\n",
       "      <td>2014-11-05</td>\n",
       "      <td>The adventures of a group of explorers who mak...</td>\n",
       "      <td>Adventure, Drama, Science Fiction</td>\n",
       "      <td>en</td>\n",
       "      <td>rescue, future, spacecraft, race against time,...</td>\n",
       "      <td>Released</td>\n",
       "      <td>False</td>\n",
       "      <td>/gEU2QniE6E77NI6lCU6MxlNBvIx.jpg</td>\n",
       "    </tr>\n",
       "    <tr>\n",
       "      <th>2</th>\n",
       "      <td>155</td>\n",
       "      <td>The Dark Knight</td>\n",
       "      <td>2008-07-16</td>\n",
       "      <td>Batman raises the stakes in his war on crime. ...</td>\n",
       "      <td>Drama, Action, Crime, Thriller</td>\n",
       "      <td>en</td>\n",
       "      <td>joker, sadism, chaos, secret identity, crime f...</td>\n",
       "      <td>Released</td>\n",
       "      <td>False</td>\n",
       "      <td>/qJ2tW6WMUDux911r6m7haRef0WH.jpg</td>\n",
       "    </tr>\n",
       "    <tr>\n",
       "      <th>3</th>\n",
       "      <td>19995</td>\n",
       "      <td>Avatar</td>\n",
       "      <td>2009-12-15</td>\n",
       "      <td>In the 22nd century, a paraplegic Marine is di...</td>\n",
       "      <td>Action, Adventure, Fantasy, Science Fiction</td>\n",
       "      <td>en</td>\n",
       "      <td>future, society, culture clash, space travel, ...</td>\n",
       "      <td>Released</td>\n",
       "      <td>False</td>\n",
       "      <td>/kyeqWdyUXW608qlYkRqosgbbJyK.jpg</td>\n",
       "    </tr>\n",
       "    <tr>\n",
       "      <th>4</th>\n",
       "      <td>24428</td>\n",
       "      <td>The Avengers</td>\n",
       "      <td>2012-04-25</td>\n",
       "      <td>When an unexpected enemy emerges and threatens...</td>\n",
       "      <td>Science Fiction, Action, Adventure</td>\n",
       "      <td>en</td>\n",
       "      <td>new york city, superhero, shield, based on com...</td>\n",
       "      <td>Released</td>\n",
       "      <td>False</td>\n",
       "      <td>/RYMX2wcKCBAr24UyPD7xwmjaTn.jpg</td>\n",
       "    </tr>\n",
       "  </tbody>\n",
       "</table>\n",
       "</div>"
      ],
      "text/plain": [
       "       id            title release_date  \\\n",
       "0   27205        Inception   2010-07-15   \n",
       "1  157336     Interstellar   2014-11-05   \n",
       "2     155  The Dark Knight   2008-07-16   \n",
       "3   19995           Avatar   2009-12-15   \n",
       "4   24428     The Avengers   2012-04-25   \n",
       "\n",
       "                                            overview  \\\n",
       "0  Cobb, a skilled thief who commits corporate es...   \n",
       "1  The adventures of a group of explorers who mak...   \n",
       "2  Batman raises the stakes in his war on crime. ...   \n",
       "3  In the 22nd century, a paraplegic Marine is di...   \n",
       "4  When an unexpected enemy emerges and threatens...   \n",
       "\n",
       "                                        genres original_language  \\\n",
       "0           Action, Science Fiction, Adventure                en   \n",
       "1            Adventure, Drama, Science Fiction                en   \n",
       "2               Drama, Action, Crime, Thriller                en   \n",
       "3  Action, Adventure, Fantasy, Science Fiction                en   \n",
       "4           Science Fiction, Action, Adventure                en   \n",
       "\n",
       "                                            keywords    status  adult  \\\n",
       "0  rescue, mission, dream, airplane, paris, franc...  Released  False   \n",
       "1  rescue, future, spacecraft, race against time,...  Released  False   \n",
       "2  joker, sadism, chaos, secret identity, crime f...  Released  False   \n",
       "3  future, society, culture clash, space travel, ...  Released  False   \n",
       "4  new york city, superhero, shield, based on com...  Released  False   \n",
       "\n",
       "                        poster_path  \n",
       "0  /oYuLEt3zVCKq57qu2F8dT7NIa6f.jpg  \n",
       "1  /gEU2QniE6E77NI6lCU6MxlNBvIx.jpg  \n",
       "2  /qJ2tW6WMUDux911r6m7haRef0WH.jpg  \n",
       "3  /kyeqWdyUXW608qlYkRqosgbbJyK.jpg  \n",
       "4   /RYMX2wcKCBAr24UyPD7xwmjaTn.jpg  "
      ]
     },
     "execution_count": 66,
     "metadata": {},
     "output_type": "execute_result"
    }
   ],
   "source": [
    "cols = ['id','title','release_date','overview','genres','original_language','keywords','status', 'adult','poster_path']\n",
    "movies[cols].head()"
   ]
  },
  {
   "cell_type": "code",
   "execution_count": 67,
   "id": "b8f1cbbd",
   "metadata": {},
   "outputs": [
    {
     "data": {
      "text/plain": [
       "id                        0\n",
       "title                    13\n",
       "release_date         242216\n",
       "overview             273504\n",
       "genres               530429\n",
       "original_language         0\n",
       "keywords             934865\n",
       "status                    0\n",
       "adult                     0\n",
       "poster_path          421968\n",
       "dtype: int64"
      ]
     },
     "execution_count": 67,
     "metadata": {},
     "output_type": "execute_result"
    }
   ],
   "source": [
    "movies[cols].isnull().sum()"
   ]
  },
  {
   "cell_type": "markdown",
   "id": "edffbef1",
   "metadata": {},
   "source": [
    "## Data Cleaning"
   ]
  },
  {
   "cell_type": "code",
   "execution_count": 68,
   "id": "9fc466a1",
   "metadata": {},
   "outputs": [
    {
     "data": {
      "text/html": [
       "<div>\n",
       "<style scoped>\n",
       "    .dataframe tbody tr th:only-of-type {\n",
       "        vertical-align: middle;\n",
       "    }\n",
       "\n",
       "    .dataframe tbody tr th {\n",
       "        vertical-align: top;\n",
       "    }\n",
       "\n",
       "    .dataframe thead th {\n",
       "        text-align: right;\n",
       "    }\n",
       "</style>\n",
       "<table border=\"1\" class=\"dataframe\">\n",
       "  <thead>\n",
       "    <tr style=\"text-align: right;\">\n",
       "      <th></th>\n",
       "      <th>id</th>\n",
       "      <th>title</th>\n",
       "      <th>release_date</th>\n",
       "      <th>overview</th>\n",
       "      <th>genres</th>\n",
       "      <th>original_language</th>\n",
       "      <th>keywords</th>\n",
       "      <th>status</th>\n",
       "      <th>adult</th>\n",
       "      <th>poster_path</th>\n",
       "    </tr>\n",
       "  </thead>\n",
       "  <tbody>\n",
       "    <tr>\n",
       "      <th>0</th>\n",
       "      <td>27205</td>\n",
       "      <td>Inception</td>\n",
       "      <td>2010-07-15</td>\n",
       "      <td>Cobb, a skilled thief who commits corporate es...</td>\n",
       "      <td>Action, Science Fiction, Adventure</td>\n",
       "      <td>en</td>\n",
       "      <td>rescue, mission, dream, airplane, paris, franc...</td>\n",
       "      <td>Released</td>\n",
       "      <td>False</td>\n",
       "      <td>/oYuLEt3zVCKq57qu2F8dT7NIa6f.jpg</td>\n",
       "    </tr>\n",
       "    <tr>\n",
       "      <th>1</th>\n",
       "      <td>157336</td>\n",
       "      <td>Interstellar</td>\n",
       "      <td>2014-11-05</td>\n",
       "      <td>The adventures of a group of explorers who mak...</td>\n",
       "      <td>Adventure, Drama, Science Fiction</td>\n",
       "      <td>en</td>\n",
       "      <td>rescue, future, spacecraft, race against time,...</td>\n",
       "      <td>Released</td>\n",
       "      <td>False</td>\n",
       "      <td>/gEU2QniE6E77NI6lCU6MxlNBvIx.jpg</td>\n",
       "    </tr>\n",
       "    <tr>\n",
       "      <th>2</th>\n",
       "      <td>155</td>\n",
       "      <td>The Dark Knight</td>\n",
       "      <td>2008-07-16</td>\n",
       "      <td>Batman raises the stakes in his war on crime. ...</td>\n",
       "      <td>Drama, Action, Crime, Thriller</td>\n",
       "      <td>en</td>\n",
       "      <td>joker, sadism, chaos, secret identity, crime f...</td>\n",
       "      <td>Released</td>\n",
       "      <td>False</td>\n",
       "      <td>/qJ2tW6WMUDux911r6m7haRef0WH.jpg</td>\n",
       "    </tr>\n",
       "    <tr>\n",
       "      <th>3</th>\n",
       "      <td>19995</td>\n",
       "      <td>Avatar</td>\n",
       "      <td>2009-12-15</td>\n",
       "      <td>In the 22nd century, a paraplegic Marine is di...</td>\n",
       "      <td>Action, Adventure, Fantasy, Science Fiction</td>\n",
       "      <td>en</td>\n",
       "      <td>future, society, culture clash, space travel, ...</td>\n",
       "      <td>Released</td>\n",
       "      <td>False</td>\n",
       "      <td>/kyeqWdyUXW608qlYkRqosgbbJyK.jpg</td>\n",
       "    </tr>\n",
       "    <tr>\n",
       "      <th>4</th>\n",
       "      <td>24428</td>\n",
       "      <td>The Avengers</td>\n",
       "      <td>2012-04-25</td>\n",
       "      <td>When an unexpected enemy emerges and threatens...</td>\n",
       "      <td>Science Fiction, Action, Adventure</td>\n",
       "      <td>en</td>\n",
       "      <td>new york city, superhero, shield, based on com...</td>\n",
       "      <td>Released</td>\n",
       "      <td>False</td>\n",
       "      <td>/RYMX2wcKCBAr24UyPD7xwmjaTn.jpg</td>\n",
       "    </tr>\n",
       "  </tbody>\n",
       "</table>\n",
       "</div>"
      ],
      "text/plain": [
       "       id            title release_date  \\\n",
       "0   27205        Inception   2010-07-15   \n",
       "1  157336     Interstellar   2014-11-05   \n",
       "2     155  The Dark Knight   2008-07-16   \n",
       "3   19995           Avatar   2009-12-15   \n",
       "4   24428     The Avengers   2012-04-25   \n",
       "\n",
       "                                            overview  \\\n",
       "0  Cobb, a skilled thief who commits corporate es...   \n",
       "1  The adventures of a group of explorers who mak...   \n",
       "2  Batman raises the stakes in his war on crime. ...   \n",
       "3  In the 22nd century, a paraplegic Marine is di...   \n",
       "4  When an unexpected enemy emerges and threatens...   \n",
       "\n",
       "                                        genres original_language  \\\n",
       "0           Action, Science Fiction, Adventure                en   \n",
       "1            Adventure, Drama, Science Fiction                en   \n",
       "2               Drama, Action, Crime, Thriller                en   \n",
       "3  Action, Adventure, Fantasy, Science Fiction                en   \n",
       "4           Science Fiction, Action, Adventure                en   \n",
       "\n",
       "                                            keywords    status  adult  \\\n",
       "0  rescue, mission, dream, airplane, paris, franc...  Released  False   \n",
       "1  rescue, future, spacecraft, race against time,...  Released  False   \n",
       "2  joker, sadism, chaos, secret identity, crime f...  Released  False   \n",
       "3  future, society, culture clash, space travel, ...  Released  False   \n",
       "4  new york city, superhero, shield, based on com...  Released  False   \n",
       "\n",
       "                        poster_path  \n",
       "0  /oYuLEt3zVCKq57qu2F8dT7NIa6f.jpg  \n",
       "1  /gEU2QniE6E77NI6lCU6MxlNBvIx.jpg  \n",
       "2  /qJ2tW6WMUDux911r6m7haRef0WH.jpg  \n",
       "3  /kyeqWdyUXW608qlYkRqosgbbJyK.jpg  \n",
       "4   /RYMX2wcKCBAr24UyPD7xwmjaTn.jpg  "
      ]
     },
     "execution_count": 68,
     "metadata": {},
     "output_type": "execute_result"
    }
   ],
   "source": [
    "df = movies[cols]\n",
    "df.head()"
   ]
  },
  {
   "cell_type": "markdown",
   "id": "c4e333ac",
   "metadata": {},
   "source": [
    "### Dropping NA values"
   ]
  },
  {
   "cell_type": "code",
   "execution_count": 77,
   "id": "87b1172f",
   "metadata": {},
   "outputs": [],
   "source": [
    "na_drop = ['release_date','overview','genres','original_language','poster_path']"
   ]
  },
  {
   "cell_type": "code",
   "execution_count": 78,
   "id": "bf4b10eb",
   "metadata": {},
   "outputs": [
    {
     "name": "stdout",
     "output_type": "stream",
     "text": [
      "id                        0\n",
      "title                     1\n",
      "release_date              0\n",
      "overview                  0\n",
      "genres                    0\n",
      "original_language         0\n",
      "keywords             263166\n",
      "status                    0\n",
      "adult                     0\n",
      "poster_path               0\n",
      "dtype: int64\n",
      "/n\n",
      "46\n"
     ]
    }
   ],
   "source": [
    "df = df.dropna(subset=na_drop)\n",
    "print(df.isna().sum())\n",
    "\n",
    "print('/n')\n",
    "print(df['id'].duplicated().sum())"
   ]
  },
  {
   "cell_type": "code",
   "execution_count": 79,
   "id": "d4d23b31",
   "metadata": {},
   "outputs": [
    {
     "name": "stdout",
     "output_type": "stream",
     "text": [
      "id                   0\n",
      "title                0\n",
      "release_date         0\n",
      "overview             0\n",
      "genres               0\n",
      "original_language    0\n",
      "keywords             0\n",
      "status               0\n",
      "adult                0\n",
      "poster_path          0\n",
      "dtype: int64\n"
     ]
    }
   ],
   "source": [
    "df = df.fillna('')\n",
    "print(df.isna().sum())"
   ]
  },
  {
   "cell_type": "markdown",
   "id": "5154fcb3",
   "metadata": {},
   "source": [
    "### Dropping Duplicate movies"
   ]
  },
  {
   "cell_type": "code",
   "execution_count": 80,
   "id": "d804097f",
   "metadata": {},
   "outputs": [
    {
     "data": {
      "text/html": [
       "<div>\n",
       "<style scoped>\n",
       "    .dataframe tbody tr th:only-of-type {\n",
       "        vertical-align: middle;\n",
       "    }\n",
       "\n",
       "    .dataframe tbody tr th {\n",
       "        vertical-align: top;\n",
       "    }\n",
       "\n",
       "    .dataframe thead th {\n",
       "        text-align: right;\n",
       "    }\n",
       "</style>\n",
       "<table border=\"1\" class=\"dataframe\">\n",
       "  <thead>\n",
       "    <tr style=\"text-align: right;\">\n",
       "      <th></th>\n",
       "      <th>id</th>\n",
       "      <th>title</th>\n",
       "      <th>release_date</th>\n",
       "      <th>overview</th>\n",
       "      <th>genres</th>\n",
       "      <th>original_language</th>\n",
       "      <th>keywords</th>\n",
       "      <th>status</th>\n",
       "      <th>adult</th>\n",
       "      <th>poster_path</th>\n",
       "    </tr>\n",
       "  </thead>\n",
       "  <tbody>\n",
       "    <tr>\n",
       "      <th>265571</th>\n",
       "      <td>1236071</td>\n",
       "      <td>Semetua</td>\n",
       "      <td>2018-02-07</td>\n",
       "      <td>Semetua was Sem Manutahi, master of ceremonies...</td>\n",
       "      <td>Documentary</td>\n",
       "      <td>fr</td>\n",
       "      <td></td>\n",
       "      <td>Released</td>\n",
       "      <td>False</td>\n",
       "      <td>/yulre2ndAtvrLJ09u1R4wSKLtep.jpg</td>\n",
       "    </tr>\n",
       "    <tr>\n",
       "      <th>265603</th>\n",
       "      <td>1236071</td>\n",
       "      <td>Semetua</td>\n",
       "      <td>2018-02-07</td>\n",
       "      <td>Semetua was Sem Manutahi, master of ceremonies...</td>\n",
       "      <td>Documentary</td>\n",
       "      <td>fr</td>\n",
       "      <td></td>\n",
       "      <td>Released</td>\n",
       "      <td>False</td>\n",
       "      <td>/yulre2ndAtvrLJ09u1R4wSKLtep.jpg</td>\n",
       "    </tr>\n",
       "    <tr>\n",
       "      <th>286679</th>\n",
       "      <td>1199990</td>\n",
       "      <td>The Undead</td>\n",
       "      <td>2023-10-27</td>\n",
       "      <td>At the end of times a dysfunctional family tak...</td>\n",
       "      <td>Horror, Thriller</td>\n",
       "      <td>en</td>\n",
       "      <td>undead, religion, dead children, religious horror</td>\n",
       "      <td>Released</td>\n",
       "      <td>False</td>\n",
       "      <td>/jsKHGufgfXgVXuiQ23MK6CtFPvN.jpg</td>\n",
       "    </tr>\n",
       "    <tr>\n",
       "      <th>286904</th>\n",
       "      <td>1199990</td>\n",
       "      <td>The Undead</td>\n",
       "      <td>2023-10-27</td>\n",
       "      <td>At the end of times a dysfunctional family tak...</td>\n",
       "      <td>Horror, Thriller</td>\n",
       "      <td>en</td>\n",
       "      <td>undead, religion, dead children, religious horror</td>\n",
       "      <td>Released</td>\n",
       "      <td>False</td>\n",
       "      <td>/jsKHGufgfXgVXuiQ23MK6CtFPvN.jpg</td>\n",
       "    </tr>\n",
       "    <tr>\n",
       "      <th>291969</th>\n",
       "      <td>1192952</td>\n",
       "      <td>Rowntree vs Cadbury: A Rivalry Through Time</td>\n",
       "      <td>2023-10-13</td>\n",
       "      <td>Eggwork Media's latest historical documentary ...</td>\n",
       "      <td>Documentary, History</td>\n",
       "      <td>en</td>\n",
       "      <td></td>\n",
       "      <td>Released</td>\n",
       "      <td>False</td>\n",
       "      <td>/mlyvQFjHH8HxcbmwRZcIt8Zltbn.jpg</td>\n",
       "    </tr>\n",
       "    <tr>\n",
       "      <th>291977</th>\n",
       "      <td>1192952</td>\n",
       "      <td>Rowntree vs Cadbury: A Rivalry Through Time</td>\n",
       "      <td>2023-10-13</td>\n",
       "      <td>Eggwork Media's latest historical documentary ...</td>\n",
       "      <td>Documentary, History</td>\n",
       "      <td>en</td>\n",
       "      <td></td>\n",
       "      <td>Released</td>\n",
       "      <td>False</td>\n",
       "      <td>/mlyvQFjHH8HxcbmwRZcIt8Zltbn.jpg</td>\n",
       "    </tr>\n",
       "  </tbody>\n",
       "</table>\n",
       "</div>"
      ],
      "text/plain": [
       "             id                                        title release_date  \\\n",
       "265571  1236071                                      Semetua   2018-02-07   \n",
       "265603  1236071                                      Semetua   2018-02-07   \n",
       "286679  1199990                                   The Undead   2023-10-27   \n",
       "286904  1199990                                   The Undead   2023-10-27   \n",
       "291969  1192952  Rowntree vs Cadbury: A Rivalry Through Time   2023-10-13   \n",
       "291977  1192952  Rowntree vs Cadbury: A Rivalry Through Time   2023-10-13   \n",
       "\n",
       "                                                 overview  \\\n",
       "265571  Semetua was Sem Manutahi, master of ceremonies...   \n",
       "265603  Semetua was Sem Manutahi, master of ceremonies...   \n",
       "286679  At the end of times a dysfunctional family tak...   \n",
       "286904  At the end of times a dysfunctional family tak...   \n",
       "291969  Eggwork Media's latest historical documentary ...   \n",
       "291977  Eggwork Media's latest historical documentary ...   \n",
       "\n",
       "                      genres original_language  \\\n",
       "265571           Documentary                fr   \n",
       "265603           Documentary                fr   \n",
       "286679      Horror, Thriller                en   \n",
       "286904      Horror, Thriller                en   \n",
       "291969  Documentary, History                en   \n",
       "291977  Documentary, History                en   \n",
       "\n",
       "                                                 keywords    status  adult  \\\n",
       "265571                                                     Released  False   \n",
       "265603                                                     Released  False   \n",
       "286679  undead, religion, dead children, religious horror  Released  False   \n",
       "286904  undead, religion, dead children, religious horror  Released  False   \n",
       "291969                                                     Released  False   \n",
       "291977                                                     Released  False   \n",
       "\n",
       "                             poster_path  \n",
       "265571  /yulre2ndAtvrLJ09u1R4wSKLtep.jpg  \n",
       "265603  /yulre2ndAtvrLJ09u1R4wSKLtep.jpg  \n",
       "286679  /jsKHGufgfXgVXuiQ23MK6CtFPvN.jpg  \n",
       "286904  /jsKHGufgfXgVXuiQ23MK6CtFPvN.jpg  \n",
       "291969  /mlyvQFjHH8HxcbmwRZcIt8Zltbn.jpg  \n",
       "291977  /mlyvQFjHH8HxcbmwRZcIt8Zltbn.jpg  "
      ]
     },
     "execution_count": 80,
     "metadata": {},
     "output_type": "execute_result"
    }
   ],
   "source": [
    "duplicate_ids = df[df['id'].duplicated(keep=False)]\n",
    "duplicate_ids.head(6)"
   ]
  },
  {
   "cell_type": "code",
   "execution_count": 81,
   "id": "848f56bc",
   "metadata": {},
   "outputs": [
    {
     "name": "stdout",
     "output_type": "stream",
     "text": [
      "0\n"
     ]
    }
   ],
   "source": [
    "# Drop Duplicate Id \n",
    "df.drop_duplicates(subset=['id'], inplace=True)\n",
    "df.reset_index(drop=True, inplace=True)\n",
    "\n",
    "#Check for anymore duplicates\n",
    "print(df.duplicated().sum())"
   ]
  },
  {
   "cell_type": "code",
   "execution_count": 82,
   "id": "e55c2eed",
   "metadata": {},
   "outputs": [
    {
     "name": "stdout",
     "output_type": "stream",
     "text": [
      "<class 'pandas.core.frame.DataFrame'>\n",
      "RangeIndex: 461108 entries, 0 to 461107\n",
      "Data columns (total 10 columns):\n",
      " #   Column             Non-Null Count   Dtype \n",
      "---  ------             --------------   ----- \n",
      " 0   id                 461108 non-null  int64 \n",
      " 1   title              461108 non-null  object\n",
      " 2   release_date       461108 non-null  object\n",
      " 3   overview           461108 non-null  object\n",
      " 4   genres             461108 non-null  object\n",
      " 5   original_language  461108 non-null  object\n",
      " 6   keywords           461108 non-null  object\n",
      " 7   status             461108 non-null  object\n",
      " 8   adult              461108 non-null  bool  \n",
      " 9   poster_path        461108 non-null  object\n",
      "dtypes: bool(1), int64(1), object(8)\n",
      "memory usage: 32.1+ MB\n"
     ]
    }
   ],
   "source": [
    "df.info()"
   ]
  },
  {
   "cell_type": "markdown",
   "id": "d83faa8e",
   "metadata": {},
   "source": [
    "## Data Validation"
   ]
  },
  {
   "cell_type": "markdown",
   "id": "b341e83c",
   "metadata": {},
   "source": [
    "### Subsetting out Adult movies"
   ]
  },
  {
   "cell_type": "code",
   "execution_count": 83,
   "id": "9716fbd8",
   "metadata": {},
   "outputs": [
    {
     "data": {
      "text/plain": [
       "np.int64(10708)"
      ]
     },
     "execution_count": 83,
     "metadata": {},
     "output_type": "execute_result"
    }
   ],
   "source": [
    "df['adult'].sum()"
   ]
  },
  {
   "cell_type": "code",
   "execution_count": 84,
   "id": "96a29e99",
   "metadata": {},
   "outputs": [
    {
     "data": {
      "text/plain": [
       "np.int64(0)"
      ]
     },
     "execution_count": 84,
     "metadata": {},
     "output_type": "execute_result"
    }
   ],
   "source": [
    "df = df[df['adult'] == False]\n",
    "df['adult'].sum()"
   ]
  },
  {
   "cell_type": "markdown",
   "id": "adb9aeb3",
   "metadata": {},
   "source": [
    "### Subsetting for Released Movies\n",
    "I would like to limit the recommendations to released movies only"
   ]
  },
  {
   "cell_type": "code",
   "execution_count": 87,
   "id": "090b9e25",
   "metadata": {},
   "outputs": [
    {
     "name": "stdout",
     "output_type": "stream",
     "text": [
      "Avaliable Released Values:\n"
     ]
    },
    {
     "data": {
      "text/plain": [
       "status\n",
       "Released           445607\n",
       "In Production        2861\n",
       "Post Production      1415\n",
       "Planned               505\n",
       "Rumored                 7\n",
       "Canceled                5\n",
       "Name: count, dtype: int64"
      ]
     },
     "execution_count": 87,
     "metadata": {},
     "output_type": "execute_result"
    }
   ],
   "source": [
    "print('Avaliable Released Values:')\n",
    "df['status'].value_counts()"
   ]
  },
  {
   "cell_type": "code",
   "execution_count": 89,
   "id": "d5ff0941",
   "metadata": {},
   "outputs": [
    {
     "name": "stdout",
     "output_type": "stream",
     "text": [
      "Avaliable Released Values:\n"
     ]
    },
    {
     "data": {
      "text/plain": [
       "status\n",
       "Released    445607\n",
       "Name: count, dtype: int64"
      ]
     },
     "execution_count": 89,
     "metadata": {},
     "output_type": "execute_result"
    }
   ],
   "source": [
    "# Subset for only relased movies\n",
    "df_released = df[df['status'] == 'Released']\n",
    "\n",
    "print('Avaliable Released Values:')\n",
    "df_released['status'].value_counts()"
   ]
  },
  {
   "cell_type": "markdown",
   "id": "15fb0d96",
   "metadata": {},
   "source": [
    "### Date Validation\n",
    "We don't movies that are too old, to stay relevant we will do some 'chopping'"
   ]
  },
  {
   "cell_type": "code",
   "execution_count": 90,
   "id": "998a1769",
   "metadata": {},
   "outputs": [],
   "source": [
    "# Converting the column to the datetime format\n",
    "df_released['release_date'] = pd.to_datetime(df_released['release_date'])\n",
    "\n",
    "# Extracting the year to create another column\n",
    "df_released['release_year'] = df_released['release_date'].dt.year"
   ]
  },
  {
   "cell_type": "code",
   "execution_count": 91,
   "id": "61a77bdd",
   "metadata": {},
   "outputs": [
    {
     "name": "stdout",
     "output_type": "stream",
     "text": [
      "5 Earliest Movies:\n",
      "                                    title  release_year release_date\n",
      "188375  Felix Nadar Spinning in his Chair          1865   1865-01-01\n",
      "19161                    Passage of Venus          1874   1874-12-09\n",
      "254438                ივანიკა და სიმონიკა          1875   1875-06-09\n",
      "47028                 The Musician Monkey          1878   1878-05-07\n",
      "54272                   The Magic Rosette          1878   1878-05-07\n",
      "\n",
      "5 Most Recent Movies:\n",
      "                                 title  release_year release_date\n",
      "312398     Athens dances Rock 'n' Roll          2057   2057-01-01\n",
      "278855  The Cold Awake: The Last Pulse          2027   2027-08-06\n",
      "258552      On The Edge: Donnie Dares!          2026   2026-12-31\n",
      "282107   National Theatre Live: Hamlet          2026   2026-01-22\n",
      "283232           Pickle For Pickleball          2026   2026-08-28\n"
     ]
    }
   ],
   "source": [
    "# Get 5 earliest movies (lowest years)\n",
    "earliest_5 = df_released.nsmallest(5, 'release_year')[['title', 'release_year', 'release_date']]\n",
    "\n",
    "# Get 5 most recent movies (highest years)\n",
    "recent_5 = df_released.nlargest(5, 'release_year')[['title', 'release_year', 'release_date']]\n",
    "\n",
    "print(\"5 Earliest Movies:\")\n",
    "print(earliest_5)\n",
    "print(\"\\n5 Most Recent Movies:\")\n",
    "print(recent_5)"
   ]
  },
  {
   "cell_type": "code",
   "execution_count": 92,
   "id": "abcbed3c",
   "metadata": {},
   "outputs": [
    {
     "name": "stdout",
     "output_type": "stream",
     "text": [
      "Decade distribution:\n"
     ]
    },
    {
     "data": {
      "image/png": "[encoded data removed]",
      "text/plain": [
       "<Figure size 640x480 with 1 Axes>"
      ]
     },
     "metadata": {},
     "output_type": "display_data"
    }
   ],
   "source": [
    "# Create decade column\n",
    "df_released['decade'] = (df_released['release_year'] // 10) * 10\n",
    "df_released['decade_label'] = df_released['decade'].astype(str) + 's'\n",
    "\n",
    "# Show distribution\n",
    "print(\"Decade distribution:\")\n",
    "decade_counts = df_released['decade_label'].value_counts().sort_index()\n",
    "decade_counts.plot(kind='bar', xlabel='Decade', ylabel='Number of Movies', title='Movie Distribution by Decade')\n",
    "plt.show()"
   ]
  },
  {
   "cell_type": "code",
   "execution_count": 93,
   "id": "69f7801e",
   "metadata": {},
   "outputs": [
    {
     "data": {
      "text/html": [
       "<div>\n",
       "<style scoped>\n",
       "    .dataframe tbody tr th:only-of-type {\n",
       "        vertical-align: middle;\n",
       "    }\n",
       "\n",
       "    .dataframe tbody tr th {\n",
       "        vertical-align: top;\n",
       "    }\n",
       "\n",
       "    .dataframe thead th {\n",
       "        text-align: right;\n",
       "    }\n",
       "</style>\n",
       "<table border=\"1\" class=\"dataframe\">\n",
       "  <thead>\n",
       "    <tr style=\"text-align: right;\">\n",
       "      <th></th>\n",
       "      <th>id</th>\n",
       "      <th>title</th>\n",
       "      <th>release_date</th>\n",
       "      <th>overview</th>\n",
       "      <th>genres</th>\n",
       "      <th>original_language</th>\n",
       "      <th>keywords</th>\n",
       "      <th>status</th>\n",
       "      <th>adult</th>\n",
       "      <th>poster_path</th>\n",
       "      <th>release_year</th>\n",
       "      <th>decade</th>\n",
       "      <th>decade_label</th>\n",
       "    </tr>\n",
       "  </thead>\n",
       "  <tbody>\n",
       "    <tr>\n",
       "      <th>245762</th>\n",
       "      <td>1493844</td>\n",
       "      <td>Sudah Jatuh Tertimpa Mangga</td>\n",
       "      <td>2025-05-26</td>\n",
       "      <td>Eko, Dwi, and Tri are three friends who wants ...</td>\n",
       "      <td>Comedy, Drama, Family</td>\n",
       "      <td>en</td>\n",
       "      <td>sudah jatuh tertimpa mangga, peribahasa, sahabat</td>\n",
       "      <td>Released</td>\n",
       "      <td>False</td>\n",
       "      <td>/rFqYIAcT548dbvg0jJUliGtB0x7.jpg</td>\n",
       "      <td>2025</td>\n",
       "      <td>2020</td>\n",
       "      <td>2020s</td>\n",
       "    </tr>\n",
       "    <tr>\n",
       "      <th>245728</th>\n",
       "      <td>1499675</td>\n",
       "      <td>Claustrophobia</td>\n",
       "      <td>2025-06-05</td>\n",
       "      <td>A young man attempts to complete a drawing as ...</td>\n",
       "      <td>Horror</td>\n",
       "      <td>en</td>\n",
       "      <td>paranoia, drawing, monochrome, claustrophobic,...</td>\n",
       "      <td>Released</td>\n",
       "      <td>False</td>\n",
       "      <td>/sgQf3O5xMc2XKaUCDnCvEisrgT8.jpg</td>\n",
       "      <td>2025</td>\n",
       "      <td>2020</td>\n",
       "      <td>2020s</td>\n",
       "    </tr>\n",
       "    <tr>\n",
       "      <th>245725</th>\n",
       "      <td>1498011</td>\n",
       "      <td>Where`s My Body Armor?</td>\n",
       "      <td>2025-06-10</td>\n",
       "      <td>Dasha, a young cinematographer, is going home ...</td>\n",
       "      <td>Documentary</td>\n",
       "      <td>uk</td>\n",
       "      <td></td>\n",
       "      <td>Released</td>\n",
       "      <td>False</td>\n",
       "      <td>/rmDWWNOlmn4HPNW4bmL59f37lmr.jpg</td>\n",
       "      <td>2025</td>\n",
       "      <td>2020</td>\n",
       "      <td>2020s</td>\n",
       "    </tr>\n",
       "    <tr>\n",
       "      <th>245719</th>\n",
       "      <td>1497693</td>\n",
       "      <td>John Levene In Conversation</td>\n",
       "      <td>2025-03-03</td>\n",
       "      <td>In Conversation was a series of Doctor Who Blu...</td>\n",
       "      <td>Documentary</td>\n",
       "      <td>en</td>\n",
       "      <td></td>\n",
       "      <td>Released</td>\n",
       "      <td>False</td>\n",
       "      <td>/hO9Zof53v9pXVrBtaNxww88xFoL.jpg</td>\n",
       "      <td>2025</td>\n",
       "      <td>2020</td>\n",
       "      <td>2020s</td>\n",
       "    </tr>\n",
       "    <tr>\n",
       "      <th>245800</th>\n",
       "      <td>1497682</td>\n",
       "      <td>Sam Licor 2</td>\n",
       "      <td>2025-06-10</td>\n",
       "      <td>Sam Licor and Jebediah are living peacefully i...</td>\n",
       "      <td>Action, Comedy, Science Fiction</td>\n",
       "      <td>en</td>\n",
       "      <td></td>\n",
       "      <td>Released</td>\n",
       "      <td>False</td>\n",
       "      <td>/rHVNOOq6HBfBzBo6Y9kfFfDX6vx.jpg</td>\n",
       "      <td>2025</td>\n",
       "      <td>2020</td>\n",
       "      <td>2020s</td>\n",
       "    </tr>\n",
       "  </tbody>\n",
       "</table>\n",
       "</div>"
      ],
      "text/plain": [
       "             id                        title release_date  \\\n",
       "245762  1493844  Sudah Jatuh Tertimpa Mangga   2025-05-26   \n",
       "245728  1499675               Claustrophobia   2025-06-05   \n",
       "245725  1498011       Where`s My Body Armor?   2025-06-10   \n",
       "245719  1497693  John Levene In Conversation   2025-03-03   \n",
       "245800  1497682                  Sam Licor 2   2025-06-10   \n",
       "\n",
       "                                                 overview  \\\n",
       "245762  Eko, Dwi, and Tri are three friends who wants ...   \n",
       "245728  A young man attempts to complete a drawing as ...   \n",
       "245725  Dasha, a young cinematographer, is going home ...   \n",
       "245719  In Conversation was a series of Doctor Who Blu...   \n",
       "245800  Sam Licor and Jebediah are living peacefully i...   \n",
       "\n",
       "                                 genres original_language  \\\n",
       "245762            Comedy, Drama, Family                en   \n",
       "245728                           Horror                en   \n",
       "245725                      Documentary                uk   \n",
       "245719                      Documentary                en   \n",
       "245800  Action, Comedy, Science Fiction                en   \n",
       "\n",
       "                                                 keywords    status  adult  \\\n",
       "245762   sudah jatuh tertimpa mangga, peribahasa, sahabat  Released  False   \n",
       "245728  paranoia, drawing, monochrome, claustrophobic,...  Released  False   \n",
       "245725                                                     Released  False   \n",
       "245719                                                     Released  False   \n",
       "245800                                                     Released  False   \n",
       "\n",
       "                             poster_path  release_year  decade decade_label  \n",
       "245762  /rFqYIAcT548dbvg0jJUliGtB0x7.jpg          2025    2020        2020s  \n",
       "245728  /sgQf3O5xMc2XKaUCDnCvEisrgT8.jpg          2025    2020        2020s  \n",
       "245725  /rmDWWNOlmn4HPNW4bmL59f37lmr.jpg          2025    2020        2020s  \n",
       "245719  /hO9Zof53v9pXVrBtaNxww88xFoL.jpg          2025    2020        2020s  \n",
       "245800  /rHVNOOq6HBfBzBo6Y9kfFfDX6vx.jpg          2025    2020        2020s  "
      ]
     },
     "execution_count": 93,
     "metadata": {},
     "output_type": "execute_result"
    }
   ],
   "source": [
    "# Subset the data to only include movies released between 1990 and 2025\n",
    "df_released = df_released[(df_released['release_year'] >= 1990) & (df_released['release_year'] <= 2025)]\n",
    "df_released.sort_values(by='release_year', ascending=False).head()"
   ]
  },
  {
   "cell_type": "code",
   "execution_count": 95,
   "id": "e07aa0bf",
   "metadata": {},
   "outputs": [
    {
     "name": "stdout",
     "output_type": "stream",
     "text": [
      "Decade distribution:\n"
     ]
    },
    {
     "data": {
      "image/png": "[encoded data removed]",
      "text/plain": [
       "<Figure size 640x480 with 1 Axes>"
      ]
     },
     "metadata": {},
     "output_type": "display_data"
    }
   ],
   "source": [
    "# Show distribution\n",
    "print(\"Decade distribution:\")\n",
    "decade_counts = df_released['decade_label'].value_counts().sort_index()\n",
    "decade_counts.plot(kind='bar', xlabel='Decade', ylabel='Number of Movies', title='Movie Distribution by Decade')\n",
    "plt.show()"
   ]
  },
  {
   "cell_type": "code",
   "execution_count": 94,
   "id": "7881602e",
   "metadata": {},
   "outputs": [
    {
     "name": "stdout",
     "output_type": "stream",
     "text": [
      "<class 'pandas.core.frame.DataFrame'>\n",
      "Index: 329176 entries, 0 to 461107\n",
      "Data columns (total 13 columns):\n",
      " #   Column             Non-Null Count   Dtype         \n",
      "---  ------             --------------   -----         \n",
      " 0   id                 329176 non-null  int64         \n",
      " 1   title              329176 non-null  object        \n",
      " 2   release_date       329176 non-null  datetime64[ns]\n",
      " 3   overview           329176 non-null  object        \n",
      " 4   genres             329176 non-null  object        \n",
      " 5   original_language  329176 non-null  object        \n",
      " 6   keywords           329176 non-null  object        \n",
      " 7   status             329176 non-null  object        \n",
      " 8   adult              329176 non-null  bool          \n",
      " 9   poster_path        329176 non-null  object        \n",
      " 10  release_year       329176 non-null  int32         \n",
      " 11  decade             329176 non-null  int32         \n",
      " 12  decade_label       329176 non-null  object        \n",
      "dtypes: bool(1), datetime64[ns](1), int32(2), int64(1), object(8)\n",
      "memory usage: 30.5+ MB\n"
     ]
    }
   ],
   "source": [
    "df_released.info()"
   ]
  },
  {
   "cell_type": "markdown",
   "id": "4f991a88",
   "metadata": {},
   "source": [
    "### Subsetting for English Movies"
   ]
  },
  {
   "cell_type": "code",
   "execution_count": 96,
   "id": "8e8c9521",
   "metadata": {},
   "outputs": [
    {
     "name": "stdout",
     "output_type": "stream",
     "text": [
      "Available Languages:\n",
      "original_language\n",
      "en    179311\n",
      "ja     16694\n",
      "es     16125\n",
      "fr     16092\n",
      "de      9059\n",
      "       ...  \n",
      "gv         1\n",
      "ts         1\n",
      "co         1\n",
      "kg         1\n",
      "ch         1\n",
      "Name: count, Length: 165, dtype: int64\n"
     ]
    }
   ],
   "source": [
    "# Check what status values exist\n",
    "print(\"Available Languages:\")\n",
    "print(df_released['original_language'].value_counts())"
   ]
  },
  {
   "cell_type": "code",
   "execution_count": 98,
   "id": "bff728a1",
   "metadata": {},
   "outputs": [
    {
     "name": "stdout",
     "output_type": "stream",
     "text": [
      "Available AFter filtering\n"
     ]
    },
    {
     "data": {
      "text/plain": [
       "original_language\n",
       "en                   179311\n",
       "Name: count, dtype: int64"
      ]
     },
     "execution_count": 98,
     "metadata": {},
     "output_type": "execute_result"
    }
   ],
   "source": [
    "# Then filter\n",
    "df_released = df_released[df_released['original_language'] == 'en'].reset_index(drop=True)\n",
    "\n",
    "# Check after filtering\n",
    "print(\"Available AFter filtering\")\n",
    "df_released[['original_language']].value_counts()"
   ]
  },
  {
   "cell_type": "markdown",
   "id": "67e76b75",
   "metadata": {},
   "source": [
    "### Column Extraction\n"
   ]
  },
  {
   "cell_type": "code",
   "execution_count": 99,
   "id": "1b4227f3",
   "metadata": {},
   "outputs": [],
   "source": [
    "# Create df2\n",
    "df2 = df_released[['id', 'title', 'overview', 'genres', 'keywords', 'decade_label', 'release_year', 'poster_path']].copy()"
   ]
  },
  {
   "cell_type": "code",
   "execution_count": 100,
   "id": "69676c5b",
   "metadata": {},
   "outputs": [
    {
     "data": {
      "text/html": [
       "<div>\n",
       "<style scoped>\n",
       "    .dataframe tbody tr th:only-of-type {\n",
       "        vertical-align: middle;\n",
       "    }\n",
       "\n",
       "    .dataframe tbody tr th {\n",
       "        vertical-align: top;\n",
       "    }\n",
       "\n",
       "    .dataframe thead th {\n",
       "        text-align: right;\n",
       "    }\n",
       "</style>\n",
       "<table border=\"1\" class=\"dataframe\">\n",
       "  <thead>\n",
       "    <tr style=\"text-align: right;\">\n",
       "      <th></th>\n",
       "      <th>id</th>\n",
       "      <th>title</th>\n",
       "      <th>overview</th>\n",
       "      <th>genres</th>\n",
       "      <th>keywords</th>\n",
       "      <th>decade_label</th>\n",
       "      <th>release_year</th>\n",
       "      <th>poster_path</th>\n",
       "    </tr>\n",
       "  </thead>\n",
       "  <tbody>\n",
       "    <tr>\n",
       "      <th>0</th>\n",
       "      <td>27205</td>\n",
       "      <td>Inception</td>\n",
       "      <td>Cobb, a skilled thief who commits corporate es...</td>\n",
       "      <td>Action, Science Fiction, Adventure</td>\n",
       "      <td>rescue, mission, dream, airplane, paris, franc...</td>\n",
       "      <td>2010s</td>\n",
       "      <td>2010</td>\n",
       "      <td>/oYuLEt3zVCKq57qu2F8dT7NIa6f.jpg</td>\n",
       "    </tr>\n",
       "    <tr>\n",
       "      <th>1</th>\n",
       "      <td>157336</td>\n",
       "      <td>Interstellar</td>\n",
       "      <td>The adventures of a group of explorers who mak...</td>\n",
       "      <td>Adventure, Drama, Science Fiction</td>\n",
       "      <td>rescue, future, spacecraft, race against time,...</td>\n",
       "      <td>2010s</td>\n",
       "      <td>2014</td>\n",
       "      <td>/gEU2QniE6E77NI6lCU6MxlNBvIx.jpg</td>\n",
       "    </tr>\n",
       "    <tr>\n",
       "      <th>2</th>\n",
       "      <td>155</td>\n",
       "      <td>The Dark Knight</td>\n",
       "      <td>Batman raises the stakes in his war on crime. ...</td>\n",
       "      <td>Drama, Action, Crime, Thriller</td>\n",
       "      <td>joker, sadism, chaos, secret identity, crime f...</td>\n",
       "      <td>2000s</td>\n",
       "      <td>2008</td>\n",
       "      <td>/qJ2tW6WMUDux911r6m7haRef0WH.jpg</td>\n",
       "    </tr>\n",
       "    <tr>\n",
       "      <th>3</th>\n",
       "      <td>19995</td>\n",
       "      <td>Avatar</td>\n",
       "      <td>In the 22nd century, a paraplegic Marine is di...</td>\n",
       "      <td>Action, Adventure, Fantasy, Science Fiction</td>\n",
       "      <td>future, society, culture clash, space travel, ...</td>\n",
       "      <td>2000s</td>\n",
       "      <td>2009</td>\n",
       "      <td>/kyeqWdyUXW608qlYkRqosgbbJyK.jpg</td>\n",
       "    </tr>\n",
       "    <tr>\n",
       "      <th>4</th>\n",
       "      <td>24428</td>\n",
       "      <td>The Avengers</td>\n",
       "      <td>When an unexpected enemy emerges and threatens...</td>\n",
       "      <td>Science Fiction, Action, Adventure</td>\n",
       "      <td>new york city, superhero, shield, based on com...</td>\n",
       "      <td>2010s</td>\n",
       "      <td>2012</td>\n",
       "      <td>/RYMX2wcKCBAr24UyPD7xwmjaTn.jpg</td>\n",
       "    </tr>\n",
       "  </tbody>\n",
       "</table>\n",
       "</div>"
      ],
      "text/plain": [
       "       id            title                                           overview  \\\n",
       "0   27205        Inception  Cobb, a skilled thief who commits corporate es...   \n",
       "1  157336     Interstellar  The adventures of a group of explorers who mak...   \n",
       "2     155  The Dark Knight  Batman raises the stakes in his war on crime. ...   \n",
       "3   19995           Avatar  In the 22nd century, a paraplegic Marine is di...   \n",
       "4   24428     The Avengers  When an unexpected enemy emerges and threatens...   \n",
       "\n",
       "                                        genres  \\\n",
       "0           Action, Science Fiction, Adventure   \n",
       "1            Adventure, Drama, Science Fiction   \n",
       "2               Drama, Action, Crime, Thriller   \n",
       "3  Action, Adventure, Fantasy, Science Fiction   \n",
       "4           Science Fiction, Action, Adventure   \n",
       "\n",
       "                                            keywords decade_label  \\\n",
       "0  rescue, mission, dream, airplane, paris, franc...        2010s   \n",
       "1  rescue, future, spacecraft, race against time,...        2010s   \n",
       "2  joker, sadism, chaos, secret identity, crime f...        2000s   \n",
       "3  future, society, culture clash, space travel, ...        2000s   \n",
       "4  new york city, superhero, shield, based on com...        2010s   \n",
       "\n",
       "   release_year                       poster_path  \n",
       "0          2010  /oYuLEt3zVCKq57qu2F8dT7NIa6f.jpg  \n",
       "1          2014  /gEU2QniE6E77NI6lCU6MxlNBvIx.jpg  \n",
       "2          2008  /qJ2tW6WMUDux911r6m7haRef0WH.jpg  \n",
       "3          2009  /kyeqWdyUXW608qlYkRqosgbbJyK.jpg  \n",
       "4          2012   /RYMX2wcKCBAr24UyPD7xwmjaTn.jpg  "
      ]
     },
     "execution_count": 100,
     "metadata": {},
     "output_type": "execute_result"
    }
   ],
   "source": [
    "df2.head()"
   ]
  },
  {
   "cell_type": "markdown",
   "id": "a536630e",
   "metadata": {},
   "source": [
    "## Preprocessing Steps"
   ]
  },
  {
   "cell_type": "markdown",
   "id": "6c0c18a2",
   "metadata": {},
   "source": [
    "### Stemming \"Overview\" Column"
   ]
  },
  {
   "cell_type": "code",
   "execution_count": 101,
   "id": "fdb324f6",
   "metadata": {},
   "outputs": [],
   "source": [
    "from nltk.stem.porter import PorterStemmer\n",
    "import re\n",
    "\n",
    "# Initialize stemmer\n",
    "ps = PorterStemmer()\n",
    "\n",
    "def clean_and_stem_overview(text):\n",
    "    \"\"\"\n",
    "    Clean and stem the overview text\n",
    "    \"\"\"\n",
    "    # Remove years (optional - you can keep if you want temporal context)\n",
    "    text = re.sub(r'\\b(19[0-9]{2}|20[0-9]{2})\\b', '', text)\n",
    "    \n",
    "    # Convert to lowercase\n",
    "    text = text.lower()\n",
    "    \n",
    "    # Remove punctuation (optional)\n",
    "    text = re.sub(r'[^\\w\\s]', '', text)\n",
    "    \n",
    "    # Split into words and stem each word\n",
    "    words = text.split()\n",
    "    stemmed_words = [ps.stem(word) for word in words]\n",
    "    \n",
    "    # Join back into a single string\n",
    "    return ' '.join(stemmed_words)"
   ]
  },
  {
   "cell_type": "code",
   "execution_count": 102,
   "id": "3d31d3cc",
   "metadata": {},
   "outputs": [
    {
     "data": {
      "text/plain": [
       "0    cobb a skill thief who commit corpor espionag ...\n",
       "1    the adventur of a group of explor who make use...\n",
       "2    batman rais the stake in hi war on crime with ...\n",
       "3    in the 22nd centuri a parapleg marin is dispat...\n",
       "4    when an unexpect enemi emerg and threaten glob...\n",
       "Name: overview_stemmed, dtype: object"
      ]
     },
     "execution_count": 102,
     "metadata": {},
     "output_type": "execute_result"
    }
   ],
   "source": [
    "# Apply to overview column\n",
    "df2['overview_stemmed'] = df2['overview'].apply(clean_and_stem_overview)\n",
    "\n",
    "# Preview the new column\n",
    "df2['overview_stemmed'].head()"
   ]
  },
  {
   "cell_type": "markdown",
   "id": "989c3d7c",
   "metadata": {},
   "source": [
    "### Preprocessig for other text columns"
   ]
  },
  {
   "cell_type": "code",
   "execution_count": 103,
   "id": "a4ddcc75",
   "metadata": {},
   "outputs": [],
   "source": [
    "def clean_text(text):\n",
    "    \"\"\"\n",
    "    Convert text to lowercase and strip whitespace\n",
    "    \"\"\"\n",
    "    if pd.isna(text):\n",
    "        return \"\"\n",
    "    \n",
    "    return str(text).lower().strip()"
   ]
  },
  {
   "cell_type": "code",
   "execution_count": 104,
   "id": "68f27166",
   "metadata": {},
   "outputs": [
    {
     "name": "stdout",
     "output_type": "stream",
     "text": [
      "                                        genres  \\\n",
      "0           action, science fiction, adventure   \n",
      "1            adventure, drama, science fiction   \n",
      "2               drama, action, crime, thriller   \n",
      "3  action, adventure, fantasy, science fiction   \n",
      "4           science fiction, action, adventure   \n",
      "\n",
      "                                            keywords  \n",
      "0  rescue, mission, dream, airplane, paris, franc...  \n",
      "1  rescue, future, spacecraft, race against time,...  \n",
      "2  joker, sadism, chaos, secret identity, crime f...  \n",
      "3  future, society, culture clash, space travel, ...  \n",
      "4  new york city, superhero, shield, based on com...  \n"
     ]
    }
   ],
   "source": [
    "# Define text columns to clean\n",
    "text_columns = ['genres', 'keywords']\n",
    "\n",
    "# Apply cleaning function to all text columns\n",
    "for col in text_columns:\n",
    "    df2[col] = df2[col].apply(clean_text)\n",
    "\n",
    "# Preview cleaned data\n",
    "print(df2[text_columns].head())"
   ]
  },
  {
   "cell_type": "markdown",
   "id": "8a23b7c9",
   "metadata": {},
   "source": [
    "### Creating the Soup"
   ]
  },
  {
   "cell_type": "code",
   "execution_count": 105,
   "id": "da961a84",
   "metadata": {},
   "outputs": [
    {
     "data": {
      "text/plain": [
       "0    action, science fiction, adventure rescue, mis...\n",
       "1    adventure, drama, science fiction rescue, futu...\n",
       "2    drama, action, crime, thriller joker, sadism, ...\n",
       "3    action, adventure, fantasy, science fiction fu...\n",
       "4    science fiction, action, adventure new york ci...\n",
       "Name: soup, dtype: object"
      ]
     },
     "execution_count": 105,
     "metadata": {},
     "output_type": "execute_result"
    }
   ],
   "source": [
    "df2['soup'] = df2['genres'] + ' ' + df2['keywords'] + ' ' + df2['overview_stemmed'] + ' ' + df2['decade_label']\n",
    "df2['soup'].head()"
   ]
  },
  {
   "cell_type": "code",
   "execution_count": 106,
   "id": "e4fb3b10",
   "metadata": {},
   "outputs": [
    {
     "data": {
      "text/plain": [
       "'action, science fiction, adventure rescue, mission, dream, airplane, paris, france, virtual reality, kidnapping, philosophy, spy, allegory, manipulation, car crash, heist, memory, architecture, los angeles, california, dream world, subconscious cobb a skill thief who commit corpor espionag by infiltr the subconsci of hi target is offer a chanc to regain hi old life as payment for a task consid to be imposs incept the implant of anoth person idea into a target subconsci 2010s'"
      ]
     },
     "execution_count": 106,
     "metadata": {},
     "output_type": "execute_result"
    }
   ],
   "source": [
    "df2['soup'].iloc[0]"
   ]
  },
  {
   "cell_type": "markdown",
   "id": "41687bee",
   "metadata": {},
   "source": [
    "## Modelling"
   ]
  },
  {
   "cell_type": "markdown",
   "id": "48dd2f4f",
   "metadata": {},
   "source": [
    "### Vectorization Steps"
   ]
  },
  {
   "cell_type": "code",
   "execution_count": 107,
   "id": "ea088623",
   "metadata": {},
   "outputs": [],
   "source": [
    "from sklearn.feature_extraction.text import TfidfVectorizer\n",
    "\n",
    "tfidf = TfidfVectorizer(\n",
    "    stop_words='english',\n",
    "    min_df=10,      \n",
    "    max_df=0.8,       # drop terms in ≥75% of the movies\n",
    "    max_features=15000,             # Keep top 15,000 features\n",
    "    ngram_range=(1, 2),            # Use unigrams and bigrams\n",
    ")\n",
    "\n",
    "X_tfidf = tfidf.fit_transform(df2['soup'].fillna(''))"
   ]
  },
  {
   "cell_type": "code",
   "execution_count": 108,
   "id": "afe2bd74",
   "metadata": {},
   "outputs": [
    {
     "data": {
      "text/plain": [
       "(179311, 15000)"
      ]
     },
     "execution_count": 108,
     "metadata": {},
     "output_type": "execute_result"
    }
   ],
   "source": [
    "X_tfidf.shape"
   ]
  },
  {
   "cell_type": "code",
   "execution_count": 109,
   "id": "8a3d0368",
   "metadata": {},
   "outputs": [
    {
     "name": "stdout",
     "output_type": "stream",
     "text": [
      "['01' '02' '03' '04' '05' '06' '07' '08' '09' '10' '10 year' '100'\n",
      " '100 year' '1000' '10000' '100000' '100th' '10th' '10th anniversari'\n",
      " '10yearold' '11' '11 year' '11th' '11yearold' '12' '12 year' '120' '12th'\n",
      " '12yearold' '13' '13 year' '13th' '13yearold' '14' '14 year' '14th'\n",
      " '14yearold' '15' '15 year' '150' '150 year' '1500' '15th' '15yearold'\n",
      " '16' '16 year' '16mm' '16mm film' '16th' '16yearold' '17' '17 year'\n",
      " '17th' '17yearold' '18' '18 year' '1800' '18th' '18th centuri'\n",
      " '18yearold' '19' '1920' '1920s' '1930' '1930s' '1940' '1940s' '1950'\n",
      " '1950s' '1960' '1960s' '1970' '1970s' '1980' '1980s' '1990' '1990s'\n",
      " '19th' '19th centuri' '19th century' '19yearold' '1st' '20' '20 year'\n",
      " '200' '200 year' '2000' '20000' '2000s' '2010s' '2020s' '20someth' '20th'\n",
      " '20th anniversari' '20th centuri' '20yearold' '21' '21st' '21st centuri'\n",
      " '22' '22nd' '23' '23 year' '23rd' '24' '24 hour' '24hour' '24th' '25'\n",
      " '25 year' '250' '25th' '25th anniversari' '26' '26th' '27' '27th' '28'\n",
      " '28th' '29' '29th' '2d' '2nd' '30' '30 day' '30 minut' '30 year' '300'\n",
      " '3000' '30000' '30th' '30th anniversari' '31' '32' '33' '34' '35'\n",
      " '35 year' '35mm' '36' '37' '38' '39' '3d' '3d anim' '3d animation' '3rd'\n",
      " '40' '40 year' '400' '4000' '40th' '40th anniversari' '41' '42' '43' '44'\n",
      " '45' '46' '47' '48' '48 hour' '4k' '4th' '50' '50 year' '500' '5000'\n",
      " '50000' '50th' '50th anniversari' '51' '51 surround' '52' '55' '5th' '60'\n",
      " '60 minut' '60 year' '600' '65' '66' '69' '6th' '70' '70 80' '70 year'\n",
      " '72' '73' '75' '7th' '80' '80s' '85' '8mm' '8th' '8yearold' '90'\n",
      " '90 minut' '90minut' '911' '92' '95' '98' '99' '9th' 'aaron' 'abandon'\n",
      " 'abandon hi' 'abandon hous' 'abandoned' 'abba' 'abbey' 'abbi' 'abbott'\n",
      " 'abc' 'abduct' 'abduction' 'abel' 'abigail' 'abil' 'abl' 'aboard'\n",
      " 'aborigin' 'aboriginal' 'abort' 'abortion' 'abound' 'abov' 'abraham'\n",
      " 'abraham lincoln' 'abroad' 'abrupt' 'abruptli' 'absenc' 'absent'\n",
      " 'absolut' 'absorb' 'abstract' 'absurd' 'absurdist' 'abu' 'abund' 'abus'\n",
      " 'abus father' 'abus husband' 'abus relationship' 'abuse' 'abusive'\n",
      " 'abyss' 'academ' 'academi' 'academi award' 'academi awardwin' 'acceler'\n",
      " 'accent' 'accept' 'accept hi' 'access' 'accid' 'accid leav' 'accident'\n",
      " 'accident death' 'accident kill' 'accidental' 'acclaim' 'accompani'\n",
      " 'accompani hi' 'accomplic' 'accomplish' 'accord' 'account' 'accumul'\n",
      " 'accur' 'accus' 'accus murder' 'ace' 'achiev' 'achiev hi' 'acid'\n",
      " 'acknowledg' 'acoust' 'acquaint' 'acquir' 'acr' 'acrobat' 'act' 'acting'\n",
      " 'action' 'action 2010s' 'action adventure' 'action animation'\n",
      " 'action boxing' 'action comedy' 'action crime' 'action documentary'\n",
      " 'action drama' 'action family' 'action fantasy' 'action film']\n"
     ]
    }
   ],
   "source": [
    "print(tfidf.get_feature_names_out()[:300])  # See what words are being used"
   ]
  },
  {
   "cell_type": "code",
   "execution_count": 110,
   "id": "310fe5c6",
   "metadata": {},
   "outputs": [],
   "source": [
    "#Construct a reverse map of indices and movie titles\n",
    "df2 = df2.reset_index(drop=True)\n",
    "df2['title_lower'] = df2['title'].str.lower().str.strip()\n",
    "indices = pd.Series(df2['id'].values, index=df2['title_lower']).drop_duplicates()"
   ]
  },
  {
   "cell_type": "code",
   "execution_count": 111,
   "id": "52d2d5b5",
   "metadata": {},
   "outputs": [
    {
     "data": {
      "text/plain": [
       "title_lower\n",
       "inception           27205\n",
       "interstellar       157336\n",
       "the dark knight       155\n",
       "avatar              19995\n",
       "the avengers        24428\n",
       "dtype: int64"
      ]
     },
     "execution_count": 111,
     "metadata": {},
     "output_type": "execute_result"
    }
   ],
   "source": [
    "indices.head()"
   ]
  },
  {
   "cell_type": "markdown",
   "id": "884552cd",
   "metadata": {},
   "source": [
    "### Model Function Creation"
   ]
  },
  {
   "cell_type": "code",
   "execution_count": 112,
   "id": "24523857",
   "metadata": {},
   "outputs": [
    {
     "data": {
      "text/html": [
       "<style>#sk-container-id-2 {\n",
       "  /* Definition of color scheme common for light and dark mode */\n",
       "  --sklearn-color-text: #000;\n",
       "  --sklearn-color-text-muted: #666;\n",
       "  --sklearn-color-line: gray;\n",
       "  /* Definition of color scheme for unfitted estimators */\n",
       "  --sklearn-color-unfitted-level-0: #fff5e6;\n",
       "  --sklearn-color-unfitted-level-1: #f6e4d2;\n",
       "  --sklearn-color-unfitted-level-2: #ffe0b3;\n",
       "  --sklearn-color-unfitted-level-3: chocolate;\n",
       "  /* Definition of color scheme for fitted estimators */\n",
       "  --sklearn-color-fitted-level-0: #f0f8ff;\n",
       "  --sklearn-color-fitted-level-1: #d4ebff;\n",
       "  --sklearn-color-fitted-level-2: #b3dbfd;\n",
       "  --sklearn-color-fitted-level-3: cornflowerblue;\n",
       "\n",
       "  /* Specific color for light theme */\n",
       "  --sklearn-color-text-on-default-background: var(--sg-text-color, var(--theme-code-foreground, var(--jp-content-font-color1, black)));\n",
       "  --sklearn-color-background: var(--sg-background-color, var(--theme-background, var(--jp-layout-color0, white)));\n",
       "  --sklearn-color-border-box: var(--sg-text-color, var(--theme-code-foreground, var(--jp-content-font-color1, black)));\n",
       "  --sklearn-color-icon: #696969;\n",
       "\n",
       "  @media (prefers-color-scheme: dark) {\n",
       "    /* Redefinition of color scheme for dark theme */\n",
       "    --sklearn-color-text-on-default-background: var(--sg-text-color, var(--theme-code-foreground, var(--jp-content-font-color1, white)));\n",
       "    --sklearn-color-background: var(--sg-background-color, var(--theme-background, var(--jp-layout-color0, #111)));\n",
       "    --sklearn-color-border-box: var(--sg-text-color, var(--theme-code-foreground, var(--jp-content-font-color1, white)));\n",
       "    --sklearn-color-icon: #878787;\n",
       "  }\n",
       "}\n",
       "\n",
       "#sk-container-id-2 {\n",
       "  color: var(--sklearn-color-text);\n",
       "}\n",
       "\n",
       "#sk-container-id-2 pre {\n",
       "  padding: 0;\n",
       "}\n",
       "\n",
       "#sk-container-id-2 input.sk-hidden--visually {\n",
       "  border: 0;\n",
       "  clip: rect(1px 1px 1px 1px);\n",
       "  clip: rect(1px, 1px, 1px, 1px);\n",
       "  height: 1px;\n",
       "  margin: -1px;\n",
       "  overflow: hidden;\n",
       "  padding: 0;\n",
       "  position: absolute;\n",
       "  width: 1px;\n",
       "}\n",
       "\n",
       "#sk-container-id-2 div.sk-dashed-wrapped {\n",
       "  border: 1px dashed var(--sklearn-color-line);\n",
       "  margin: 0 0.4em 0.5em 0.4em;\n",
       "  box-sizing: border-box;\n",
       "  padding-bottom: 0.4em;\n",
       "  background-color: var(--sklearn-color-background);\n",
       "}\n",
       "\n",
       "#sk-container-id-2 div.sk-container {\n",
       "  /* jupyter's `normalize.less` sets `[hidden] { display: none; }`\n",
       "     but bootstrap.min.css set `[hidden] { display: none !important; }`\n",
       "     so we also need the `!important` here to be able to override the\n",
       "     default hidden behavior on the sphinx rendered scikit-learn.org.\n",
       "     See: https://github.com/scikit-learn/scikit-learn/issues/21755 */\n",
       "  display: inline-block !important;\n",
       "  position: relative;\n",
       "}\n",
       "\n",
       "#sk-container-id-2 div.sk-text-repr-fallback {\n",
       "  display: none;\n",
       "}\n",
       "\n",
       "div.sk-parallel-item,\n",
       "div.sk-serial,\n",
       "div.sk-item {\n",
       "  /* draw centered vertical line to link estimators */\n",
       "  background-image: linear-gradient(var(--sklearn-color-text-on-default-background), var(--sklearn-color-text-on-default-background));\n",
       "  background-size: 2px 100%;\n",
       "  background-repeat: no-repeat;\n",
       "  background-position: center center;\n",
       "}\n",
       "\n",
       "/* Parallel-specific style estimator block */\n",
       "\n",
       "#sk-container-id-2 div.sk-parallel-item::after {\n",
       "  content: \"\";\n",
       "  width: 100%;\n",
       "  border-bottom: 2px solid var(--sklearn-color-text-on-default-background);\n",
       "  flex-grow: 1;\n",
       "}\n",
       "\n",
       "#sk-container-id-2 div.sk-parallel {\n",
       "  display: flex;\n",
       "  align-items: stretch;\n",
       "  justify-content: center;\n",
       "  background-color: var(--sklearn-color-background);\n",
       "  position: relative;\n",
       "}\n",
       "\n",
       "#sk-container-id-2 div.sk-parallel-item {\n",
       "  display: flex;\n",
       "  flex-direction: column;\n",
       "}\n",
       "\n",
       "#sk-container-id-2 div.sk-parallel-item:first-child::after {\n",
       "  align-self: flex-end;\n",
       "  width: 50%;\n",
       "}\n",
       "\n",
       "#sk-container-id-2 div.sk-parallel-item:last-child::after {\n",
       "  align-self: flex-start;\n",
       "  width: 50%;\n",
       "}\n",
       "\n",
       "#sk-container-id-2 div.sk-parallel-item:only-child::after {\n",
       "  width: 0;\n",
       "}\n",
       "\n",
       "/* Serial-specific style estimator block */\n",
       "\n",
       "#sk-container-id-2 div.sk-serial {\n",
       "  display: flex;\n",
       "  flex-direction: column;\n",
       "  align-items: center;\n",
       "  background-color: var(--sklearn-color-background);\n",
       "  padding-right: 1em;\n",
       "  padding-left: 1em;\n",
       "}\n",
       "\n",
       "\n",
       "/* Toggleable style: style used for estimator/Pipeline/ColumnTransformer box that is\n",
       "clickable and can be expanded/collapsed.\n",
       "- Pipeline and ColumnTransformer use this feature and define the default style\n",
       "- Estimators will overwrite some part of the style using the `sk-estimator` class\n",
       "*/\n",
       "\n",
       "/* Pipeline and ColumnTransformer style (default) */\n",
       "\n",
       "#sk-container-id-2 div.sk-toggleable {\n",
       "  /* Default theme specific background. It is overwritten whether we have a\n",
       "  specific estimator or a Pipeline/ColumnTransformer */\n",
       "  background-color: var(--sklearn-color-background);\n",
       "}\n",
       "\n",
       "/* Toggleable label */\n",
       "#sk-container-id-2 label.sk-toggleable__label {\n",
       "  cursor: pointer;\n",
       "  display: flex;\n",
       "  width: 100%;\n",
       "  margin-bottom: 0;\n",
       "  padding: 0.5em;\n",
       "  box-sizing: border-box;\n",
       "  text-align: center;\n",
       "  align-items: start;\n",
       "  justify-content: space-between;\n",
       "  gap: 0.5em;\n",
       "}\n",
       "\n",
       "#sk-container-id-2 label.sk-toggleable__label .caption {\n",
       "  font-size: 0.6rem;\n",
       "  font-weight: lighter;\n",
       "  color: var(--sklearn-color-text-muted);\n",
       "}\n",
       "\n",
       "#sk-container-id-2 label.sk-toggleable__label-arrow:before {\n",
       "  /* Arrow on the left of the label */\n",
       "  content: \"▸\";\n",
       "  float: left;\n",
       "  margin-right: 0.25em;\n",
       "  color: var(--sklearn-color-icon);\n",
       "}\n",
       "\n",
       "#sk-container-id-2 label.sk-toggleable__label-arrow:hover:before {\n",
       "  color: var(--sklearn-color-text);\n",
       "}\n",
       "\n",
       "/* Toggleable content - dropdown */\n",
       "\n",
       "#sk-container-id-2 div.sk-toggleable__content {\n",
       "  max-height: 0;\n",
       "  max-width: 0;\n",
       "  overflow: hidden;\n",
       "  text-align: left;\n",
       "  /* unfitted */\n",
       "  background-color: var(--sklearn-color-unfitted-level-0);\n",
       "}\n",
       "\n",
       "#sk-container-id-2 div.sk-toggleable__content.fitted {\n",
       "  /* fitted */\n",
       "  background-color: var(--sklearn-color-fitted-level-0);\n",
       "}\n",
       "\n",
       "#sk-container-id-2 div.sk-toggleable__content pre {\n",
       "  margin: 0.2em;\n",
       "  border-radius: 0.25em;\n",
       "  color: var(--sklearn-color-text);\n",
       "  /* unfitted */\n",
       "  background-color: var(--sklearn-color-unfitted-level-0);\n",
       "}\n",
       "\n",
       "#sk-container-id-2 div.sk-toggleable__content.fitted pre {\n",
       "  /* unfitted */\n",
       "  background-color: var(--sklearn-color-fitted-level-0);\n",
       "}\n",
       "\n",
       "#sk-container-id-2 input.sk-toggleable__control:checked~div.sk-toggleable__content {\n",
       "  /* Expand drop-down */\n",
       "  max-height: 200px;\n",
       "  max-width: 100%;\n",
       "  overflow: auto;\n",
       "}\n",
       "\n",
       "#sk-container-id-2 input.sk-toggleable__control:checked~label.sk-toggleable__label-arrow:before {\n",
       "  content: \"▾\";\n",
       "}\n",
       "\n",
       "/* Pipeline/ColumnTransformer-specific style */\n",
       "\n",
       "#sk-container-id-2 div.sk-label input.sk-toggleable__control:checked~label.sk-toggleable__label {\n",
       "  color: var(--sklearn-color-text);\n",
       "  background-color: var(--sklearn-color-unfitted-level-2);\n",
       "}\n",
       "\n",
       "#sk-container-id-2 div.sk-label.fitted input.sk-toggleable__control:checked~label.sk-toggleable__label {\n",
       "  background-color: var(--sklearn-color-fitted-level-2);\n",
       "}\n",
       "\n",
       "/* Estimator-specific style */\n",
       "\n",
       "/* Colorize estimator box */\n",
       "#sk-container-id-2 div.sk-estimator input.sk-toggleable__control:checked~label.sk-toggleable__label {\n",
       "  /* unfitted */\n",
       "  background-color: var(--sklearn-color-unfitted-level-2);\n",
       "}\n",
       "\n",
       "#sk-container-id-2 div.sk-estimator.fitted input.sk-toggleable__control:checked~label.sk-toggleable__label {\n",
       "  /* fitted */\n",
       "  background-color: var(--sklearn-color-fitted-level-2);\n",
       "}\n",
       "\n",
       "#sk-container-id-2 div.sk-label label.sk-toggleable__label,\n",
       "#sk-container-id-2 div.sk-label label {\n",
       "  /* The background is the default theme color */\n",
       "  color: var(--sklearn-color-text-on-default-background);\n",
       "}\n",
       "\n",
       "/* On hover, darken the color of the background */\n",
       "#sk-container-id-2 div.sk-label:hover label.sk-toggleable__label {\n",
       "  color: var(--sklearn-color-text);\n",
       "  background-color: var(--sklearn-color-unfitted-level-2);\n",
       "}\n",
       "\n",
       "/* Label box, darken color on hover, fitted */\n",
       "#sk-container-id-2 div.sk-label.fitted:hover label.sk-toggleable__label.fitted {\n",
       "  color: var(--sklearn-color-text);\n",
       "  background-color: var(--sklearn-color-fitted-level-2);\n",
       "}\n",
       "\n",
       "/* Estimator label */\n",
       "\n",
       "#sk-container-id-2 div.sk-label label {\n",
       "  font-family: monospace;\n",
       "  font-weight: bold;\n",
       "  display: inline-block;\n",
       "  line-height: 1.2em;\n",
       "}\n",
       "\n",
       "#sk-container-id-2 div.sk-label-container {\n",
       "  text-align: center;\n",
       "}\n",
       "\n",
       "/* Estimator-specific */\n",
       "#sk-container-id-2 div.sk-estimator {\n",
       "  font-family: monospace;\n",
       "  border: 1px dotted var(--sklearn-color-border-box);\n",
       "  border-radius: 0.25em;\n",
       "  box-sizing: border-box;\n",
       "  margin-bottom: 0.5em;\n",
       "  /* unfitted */\n",
       "  background-color: var(--sklearn-color-unfitted-level-0);\n",
       "}\n",
       "\n",
       "#sk-container-id-2 div.sk-estimator.fitted {\n",
       "  /* fitted */\n",
       "  background-color: var(--sklearn-color-fitted-level-0);\n",
       "}\n",
       "\n",
       "/* on hover */\n",
       "#sk-container-id-2 div.sk-estimator:hover {\n",
       "  /* unfitted */\n",
       "  background-color: var(--sklearn-color-unfitted-level-2);\n",
       "}\n",
       "\n",
       "#sk-container-id-2 div.sk-estimator.fitted:hover {\n",
       "  /* fitted */\n",
       "  background-color: var(--sklearn-color-fitted-level-2);\n",
       "}\n",
       "\n",
       "/* Specification for estimator info (e.g. \"i\" and \"?\") */\n",
       "\n",
       "/* Common style for \"i\" and \"?\" */\n",
       "\n",
       ".sk-estimator-doc-link,\n",
       "a:link.sk-estimator-doc-link,\n",
       "a:visited.sk-estimator-doc-link {\n",
       "  float: right;\n",
       "  font-size: smaller;\n",
       "  line-height: 1em;\n",
       "  font-family: monospace;\n",
       "  background-color: var(--sklearn-color-background);\n",
       "  border-radius: 1em;\n",
       "  height: 1em;\n",
       "  width: 1em;\n",
       "  text-decoration: none !important;\n",
       "  margin-left: 0.5em;\n",
       "  text-align: center;\n",
       "  /* unfitted */\n",
       "  border: var(--sklearn-color-unfitted-level-1) 1pt solid;\n",
       "  color: var(--sklearn-color-unfitted-level-1);\n",
       "}\n",
       "\n",
       ".sk-estimator-doc-link.fitted,\n",
       "a:link.sk-estimator-doc-link.fitted,\n",
       "a:visited.sk-estimator-doc-link.fitted {\n",
       "  /* fitted */\n",
       "  border: var(--sklearn-color-fitted-level-1) 1pt solid;\n",
       "  color: var(--sklearn-color-fitted-level-1);\n",
       "}\n",
       "\n",
       "/* On hover */\n",
       "div.sk-estimator:hover .sk-estimator-doc-link:hover,\n",
       ".sk-estimator-doc-link:hover,\n",
       "div.sk-label-container:hover .sk-estimator-doc-link:hover,\n",
       ".sk-estimator-doc-link:hover {\n",
       "  /* unfitted */\n",
       "  background-color: var(--sklearn-color-unfitted-level-3);\n",
       "  color: var(--sklearn-color-background);\n",
       "  text-decoration: none;\n",
       "}\n",
       "\n",
       "div.sk-estimator.fitted:hover .sk-estimator-doc-link.fitted:hover,\n",
       ".sk-estimator-doc-link.fitted:hover,\n",
       "div.sk-label-container:hover .sk-estimator-doc-link.fitted:hover,\n",
       ".sk-estimator-doc-link.fitted:hover {\n",
       "  /* fitted */\n",
       "  background-color: var(--sklearn-color-fitted-level-3);\n",
       "  color: var(--sklearn-color-background);\n",
       "  text-decoration: none;\n",
       "}\n",
       "\n",
       "/* Span, style for the box shown on hovering the info icon */\n",
       ".sk-estimator-doc-link span {\n",
       "  display: none;\n",
       "  z-index: 9999;\n",
       "  position: relative;\n",
       "  font-weight: normal;\n",
       "  right: .2ex;\n",
       "  padding: .5ex;\n",
       "  margin: .5ex;\n",
       "  width: min-content;\n",
       "  min-width: 20ex;\n",
       "  max-width: 50ex;\n",
       "  color: var(--sklearn-color-text);\n",
       "  box-shadow: 2pt 2pt 4pt #999;\n",
       "  /* unfitted */\n",
       "  background: var(--sklearn-color-unfitted-level-0);\n",
       "  border: .5pt solid var(--sklearn-color-unfitted-level-3);\n",
       "}\n",
       "\n",
       ".sk-estimator-doc-link.fitted span {\n",
       "  /* fitted */\n",
       "  background: var(--sklearn-color-fitted-level-0);\n",
       "  border: var(--sklearn-color-fitted-level-3);\n",
       "}\n",
       "\n",
       ".sk-estimator-doc-link:hover span {\n",
       "  display: block;\n",
       "}\n",
       "\n",
       "/* \"?\"-specific style due to the `<a>` HTML tag */\n",
       "\n",
       "#sk-container-id-2 a.estimator_doc_link {\n",
       "  float: right;\n",
       "  font-size: 1rem;\n",
       "  line-height: 1em;\n",
       "  font-family: monospace;\n",
       "  background-color: var(--sklearn-color-background);\n",
       "  border-radius: 1rem;\n",
       "  height: 1rem;\n",
       "  width: 1rem;\n",
       "  text-decoration: none;\n",
       "  /* unfitted */\n",
       "  color: var(--sklearn-color-unfitted-level-1);\n",
       "  border: var(--sklearn-color-unfitted-level-1) 1pt solid;\n",
       "}\n",
       "\n",
       "#sk-container-id-2 a.estimator_doc_link.fitted {\n",
       "  /* fitted */\n",
       "  border: var(--sklearn-color-fitted-level-1) 1pt solid;\n",
       "  color: var(--sklearn-color-fitted-level-1);\n",
       "}\n",
       "\n",
       "/* On hover */\n",
       "#sk-container-id-2 a.estimator_doc_link:hover {\n",
       "  /* unfitted */\n",
       "  background-color: var(--sklearn-color-unfitted-level-3);\n",
       "  color: var(--sklearn-color-background);\n",
       "  text-decoration: none;\n",
       "}\n",
       "\n",
       "#sk-container-id-2 a.estimator_doc_link.fitted:hover {\n",
       "  /* fitted */\n",
       "  background-color: var(--sklearn-color-fitted-level-3);\n",
       "}\n",
       "</style><div id=\"sk-container-id-2\" class=\"sk-top-container\"><div class=\"sk-text-repr-fallback\"><pre>NearestNeighbors(algorithm=&#x27;brute&#x27;, metric=&#x27;cosine&#x27;, n_jobs=-1, n_neighbors=11)</pre><b>In a Jupyter environment, please rerun this cell to show the HTML representation or trust the notebook. <br />On GitHub, the HTML representation is unable to render, please try loading this page with nbviewer.org.</b></div><div class=\"sk-container\" hidden><div class=\"sk-item\"><div class=\"sk-estimator fitted sk-toggleable\"><input class=\"sk-toggleable__control sk-hidden--visually\" id=\"sk-estimator-id-2\" type=\"checkbox\" checked><label for=\"sk-estimator-id-2\" class=\"sk-toggleable__label fitted sk-toggleable__label-arrow\"><div><div>NearestNeighbors</div></div><div><a class=\"sk-estimator-doc-link fitted\" rel=\"noreferrer\" target=\"_blank\" href=\"https://scikit-learn.org/1.6/modules/generated/sklearn.neighbors.NearestNeighbors.html\">?<span>Documentation for NearestNeighbors</span></a><span class=\"sk-estimator-doc-link fitted\">i<span>Fitted</span></span></div></label><div class=\"sk-toggleable__content fitted\"><pre>NearestNeighbors(algorithm=&#x27;brute&#x27;, metric=&#x27;cosine&#x27;, n_jobs=-1, n_neighbors=11)</pre></div> </div></div></div></div>"
      ],
      "text/plain": [
       "NearestNeighbors(algorithm='brute', metric='cosine', n_jobs=-1, n_neighbors=11)"
      ]
     },
     "execution_count": 112,
     "metadata": {},
     "output_type": "execute_result"
    }
   ],
   "source": [
    "from sklearn.neighbors import NearestNeighbors\n",
    "import difflib\n",
    "\n",
    "# 1. Fit the NearestNeighbors model (do this once)\n",
    "#    We ask for 11 neighbours: movie itself + 10 closest others\n",
    "nn = NearestNeighbors(\n",
    "    n_neighbors=11,\n",
    "    metric='cosine',\n",
    "    algorithm='brute',\n",
    "    n_jobs=-1\n",
    ")\n",
    "nn.fit(X_tfidf)   # X_tfidf is your TF–IDF sparse matrix"
   ]
  },
  {
   "cell_type": "code",
   "execution_count": 113,
   "id": "f84c6b87",
   "metadata": {},
   "outputs": [],
   "source": [
    "def get_recommendations(movie_title, nn_model=nn, tfidf_matrix=X_tfidf, df=df2, indices=indices, min_similarity=0.6):\n",
    "    \"\"\"\n",
    "    Get 10 movie recommendations based on a movie title.\n",
    "    \n",
    "    Parameters:\n",
    "    - movie_title: String, the title of the movie to find recommendations for\n",
    "    - nn_model: Fitted NearestNeighbors model\n",
    "    - tfidf_matrix: TF-IDF matrix used for training\n",
    "    - df: DataFrame containing movie data\n",
    "    - indices: Series mapping movie titles to IDs\n",
    "    - min_similarity: Minimum similarity threshold for auto-correction\n",
    "    \n",
    "    Returns:\n",
    "    - List of 10 recommended movie titles\n",
    "    \"\"\"\n",
    "    # Normalize the input title\n",
    "    key = movie_title.lower().strip()\n",
    "    \n",
    "    # Check if the title exists in our index\n",
    "    if key not in indices.index:\n",
    "        # Try to auto-correct using difflib\n",
    "        close_matches = difflib.get_close_matches(key, indices.index, n=1, cutoff=min_similarity)\n",
    "        \n",
    "        if close_matches:\n",
    "            corrected_key = close_matches[0]\n",
    "            corrected_movie_id = indices[[corrected_key]].iloc[0]\n",
    "            \n",
    "            # Get the corrected movie title\n",
    "            corrected_title = df[df['id'] == corrected_movie_id]['title'].iloc[0]\n",
    "            print(f\"Title '{movie_title}' not found. Using closest match: '{corrected_title}'\")\n",
    "            \n",
    "            key = corrected_key\n",
    "        else:\n",
    "            raise KeyError(f\"Movie title '{movie_title}' not found and no close match available.\")\n",
    "    \n",
    "    # Get the movie ID for the title\n",
    "    movie_id = indices[[key]].iloc[0]\n",
    "    \n",
    "    # Find the row index in the DataFrame\n",
    "    movie_row = df[df['id'] == movie_id]\n",
    "    if len(movie_row) == 0:\n",
    "        raise KeyError(f\"Movie with ID {movie_id} not found in DataFrame.\")\n",
    "    \n",
    "    row_idx = movie_row.index[0]\n",
    "    \n",
    "    # Get the TF-IDF vector for this movie\n",
    "    movie_vector = tfidf_matrix[row_idx]\n",
    "    \n",
    "    # Find the 11 nearest neighbors (including the movie itself)\n",
    "    distances, neighbor_indices = nn_model.kneighbors(movie_vector, return_distance=True)\n",
    "    \n",
    "    # Remove the first neighbor (it's the movie itself) and get the next 10\n",
    "    recommended_indices = neighbor_indices[0][1:11]  # Get indices 1-10\n",
    "    \n",
    "    # Get the recommended movie titles\n",
    "    recommended_movies = df.iloc[recommended_indices]['title'].tolist()\n",
    "    \n",
    "    return recommended_movies"
   ]
  },
  {
   "cell_type": "code",
   "execution_count": 114,
   "id": "bd0d7f43",
   "metadata": {},
   "outputs": [
    {
     "name": "stdout",
     "output_type": "stream",
     "text": [
      "Title 'Kill Bill  Vol. 1' not found. Using closest match: 'Kill Bill: Vol. 1'\n"
     ]
    },
    {
     "data": {
      "text/plain": [
       "['Kill Bill: The Whole Bloody Affair',\n",
       " 'Into the Sun',\n",
       " 'Kill Bill: Vol. 2',\n",
       " 'Crouching Tiger, Hidden Dragon: Sword of Destiny',\n",
       " 'The Longsword by Johannes Liechtenauer Part I',\n",
       " 'Crossed',\n",
       " 'Gladiator Cop',\n",
       " 'True Vengeance',\n",
       " 'Lady Samurai',\n",
       " 'American Dragons']"
      ]
     },
     "execution_count": 114,
     "metadata": {},
     "output_type": "execute_result"
    }
   ],
   "source": [
    "# Example usage\n",
    "get_recommendations(\"Kill Bill  Vol. 1\")"
   ]
  },
  {
   "cell_type": "markdown",
   "id": "31547340",
   "metadata": {},
   "source": [
    "## Saving Datasets as Pickle Files"
   ]
  },
  {
   "cell_type": "code",
   "execution_count": 115,
   "id": "dba34df2",
   "metadata": {},
   "outputs": [
    {
     "data": {
      "text/html": [
       "<div>\n",
       "<style scoped>\n",
       "    .dataframe tbody tr th:only-of-type {\n",
       "        vertical-align: middle;\n",
       "    }\n",
       "\n",
       "    .dataframe tbody tr th {\n",
       "        vertical-align: top;\n",
       "    }\n",
       "\n",
       "    .dataframe thead th {\n",
       "        text-align: right;\n",
       "    }\n",
       "</style>\n",
       "<table border=\"1\" class=\"dataframe\">\n",
       "  <thead>\n",
       "    <tr style=\"text-align: right;\">\n",
       "      <th></th>\n",
       "      <th>id</th>\n",
       "      <th>title</th>\n",
       "      <th>overview</th>\n",
       "      <th>genres</th>\n",
       "      <th>release_year</th>\n",
       "      <th>title_lower</th>\n",
       "      <th>poster_path</th>\n",
       "    </tr>\n",
       "  </thead>\n",
       "  <tbody>\n",
       "    <tr>\n",
       "      <th>0</th>\n",
       "      <td>27205</td>\n",
       "      <td>Inception</td>\n",
       "      <td>Cobb, a skilled thief who commits corporate es...</td>\n",
       "      <td>action, science fiction, adventure</td>\n",
       "      <td>2010</td>\n",
       "      <td>inception</td>\n",
       "      <td>/oYuLEt3zVCKq57qu2F8dT7NIa6f.jpg</td>\n",
       "    </tr>\n",
       "    <tr>\n",
       "      <th>1</th>\n",
       "      <td>157336</td>\n",
       "      <td>Interstellar</td>\n",
       "      <td>The adventures of a group of explorers who mak...</td>\n",
       "      <td>adventure, drama, science fiction</td>\n",
       "      <td>2014</td>\n",
       "      <td>interstellar</td>\n",
       "      <td>/gEU2QniE6E77NI6lCU6MxlNBvIx.jpg</td>\n",
       "    </tr>\n",
       "    <tr>\n",
       "      <th>2</th>\n",
       "      <td>155</td>\n",
       "      <td>The Dark Knight</td>\n",
       "      <td>Batman raises the stakes in his war on crime. ...</td>\n",
       "      <td>drama, action, crime, thriller</td>\n",
       "      <td>2008</td>\n",
       "      <td>the dark knight</td>\n",
       "      <td>/qJ2tW6WMUDux911r6m7haRef0WH.jpg</td>\n",
       "    </tr>\n",
       "    <tr>\n",
       "      <th>3</th>\n",
       "      <td>19995</td>\n",
       "      <td>Avatar</td>\n",
       "      <td>In the 22nd century, a paraplegic Marine is di...</td>\n",
       "      <td>action, adventure, fantasy, science fiction</td>\n",
       "      <td>2009</td>\n",
       "      <td>avatar</td>\n",
       "      <td>/kyeqWdyUXW608qlYkRqosgbbJyK.jpg</td>\n",
       "    </tr>\n",
       "    <tr>\n",
       "      <th>4</th>\n",
       "      <td>24428</td>\n",
       "      <td>The Avengers</td>\n",
       "      <td>When an unexpected enemy emerges and threatens...</td>\n",
       "      <td>science fiction, action, adventure</td>\n",
       "      <td>2012</td>\n",
       "      <td>the avengers</td>\n",
       "      <td>/RYMX2wcKCBAr24UyPD7xwmjaTn.jpg</td>\n",
       "    </tr>\n",
       "  </tbody>\n",
       "</table>\n",
       "</div>"
      ],
      "text/plain": [
       "       id            title                                           overview  \\\n",
       "0   27205        Inception  Cobb, a skilled thief who commits corporate es...   \n",
       "1  157336     Interstellar  The adventures of a group of explorers who mak...   \n",
       "2     155  The Dark Knight  Batman raises the stakes in his war on crime. ...   \n",
       "3   19995           Avatar  In the 22nd century, a paraplegic Marine is di...   \n",
       "4   24428     The Avengers  When an unexpected enemy emerges and threatens...   \n",
       "\n",
       "                                        genres  release_year      title_lower  \\\n",
       "0           action, science fiction, adventure          2010        inception   \n",
       "1            adventure, drama, science fiction          2014     interstellar   \n",
       "2               drama, action, crime, thriller          2008  the dark knight   \n",
       "3  action, adventure, fantasy, science fiction          2009           avatar   \n",
       "4           science fiction, action, adventure          2012     the avengers   \n",
       "\n",
       "                        poster_path  \n",
       "0  /oYuLEt3zVCKq57qu2F8dT7NIa6f.jpg  \n",
       "1  /gEU2QniE6E77NI6lCU6MxlNBvIx.jpg  \n",
       "2  /qJ2tW6WMUDux911r6m7haRef0WH.jpg  \n",
       "3  /kyeqWdyUXW608qlYkRqosgbbJyK.jpg  \n",
       "4   /RYMX2wcKCBAr24UyPD7xwmjaTn.jpg  "
      ]
     },
     "execution_count": 115,
     "metadata": {},
     "output_type": "execute_result"
    }
   ],
   "source": [
    "df3 = df2[['id', 'title','overview', 'genres', 'release_year', 'title_lower', 'poster_path']]\n",
    "df3.head()"
   ]
  },
  {
   "cell_type": "code",
   "execution_count": 116,
   "id": "c41929a0",
   "metadata": {},
   "outputs": [],
   "source": [
    "# Save/Update files as pickle files\n",
    "# The Dataframe\n",
    "import pickle\n",
    "\n",
    "with open('Pkled Files/dataframe.pkl', 'wb') as f:\n",
    "    pickle.dump(df3, f)"
   ]
  },
  {
   "cell_type": "code",
   "execution_count": 117,
   "id": "eea25f48",
   "metadata": {},
   "outputs": [],
   "source": [
    "# The Indices\n",
    "with open('Pkled Files/indices.pkl', 'wb') as f:\n",
    "    pickle.dump(indices, f)"
   ]
  },
  {
   "cell_type": "code",
   "execution_count": 118,
   "id": "3d87fb31",
   "metadata": {},
   "outputs": [],
   "source": [
    "# The Tfidf Matrix\n",
    "with open('Pkled Files/tfidf_matrix.pkl', 'wb') as f:\n",
    "    pickle.dump(X_tfidf, f)"
   ]
  }
 ],
 "metadata": {
  "kernelspec": {
   "display_name": "Python 3",
   "language": "python",
   "name": "python3"
  },
  "language_info": {
   "codemirror_mode": {
    "name": "ipython",
    "version": 3
   },
   "file_extension": ".py",
   "mimetype": "text/x-python",
   "name": "python",
   "nbconvert_exporter": "python",
   "pygments_lexer": "ipython3",
   "version": "3.12.8"
  }
 },
 "nbformat": 4,
 "nbformat_minor": 5
}
